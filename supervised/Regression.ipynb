{
 "cells": [
  {
   "cell_type": "markdown",
   "metadata": {},
   "source": [
    "# Hồi quy (Regression)"
   ]
  },
  {
   "cell_type": "code",
   "execution_count": 3,
   "metadata": {},
   "outputs": [],
   "source": [
    "# Các thư viện cần thiết\n",
    "import numpy as np\n",
    "import matplotlib.pyplot as plt\n",
    "import pandas as pd\n",
    "from sklearn.linear_model import LinearRegression\n",
    "import torch.nn as nn\n",
    "import torch\n"
   ]
  },
  {
   "cell_type": "code",
   "execution_count": 4,
   "metadata": {},
   "outputs": [
    {
     "name": "stdout",
     "output_type": "stream",
     "text": [
      "Epoch: 100, Loss: 0.7300599813461304\n",
      "Epoch: 200, Loss: 0.7057135105133057\n",
      "Epoch: 300, Loss: 0.6952205896377563\n",
      "Epoch: 400, Loss: 0.6906980276107788\n",
      "Epoch: 500, Loss: 0.6887489557266235\n",
      "Epoch: 600, Loss: 0.687908947467804\n",
      "Epoch: 700, Loss: 0.6875468492507935\n",
      "Epoch: 800, Loss: 0.6873908042907715\n",
      "Epoch: 900, Loss: 0.6873237490653992\n",
      "Epoch: 1000, Loss: 0.687294602394104\n"
     ]
    }
   ],
   "source": [
    "class LinearNet(nn.Module):\n",
    "    def __init__(self):\n",
    "        super(LinearNet, self).__init__()\n",
    "        self.linear = nn.Linear(1, 1) # Tương đương nhân ma trận với một ma trận có kích thước (1, 1)\n",
    "\n",
    "    def forward(self, x):\n",
    "        \"\"\"\"\n",
    "        Hàm forward để tính output của mô hình\n",
    "\n",
    "        :param x: input data (batch_size, 1)\n",
    "        :return: y_pred: output data (batch_size, 1)\n",
    "        \"\"\"\"\n",
    "        y_pred = self.linear(x)\n",
    "        return y_pred\n",
    "    \n",
    "# Dữ liệu giả định\n",
    "X = np.array([1, 2, 3, 4, 5, 6, 7, 8, 9, 10]).reshape(-1, 1) # Kích thước (10, 1)\n",
    "y = np.array([3, 4, 2, 5, 6, 7, 8, 9, 10, 12]).reshape(-1, 1) # Kích thước (10, 1)\n",
    "\n",
    "# Chuyển dữ liệu sang tensor\n",
    "X_train = torch.FloatTensor(X)\n",
    "y_train = torch.FloatTensor(y)\n",
    "\n",
    "# Khởi tạo mô hình\n",
    "model = LinearNet()\n",
    "\n",
    "# Hàm mất mát\n",
    "criterion = nn.MSELoss()\n",
    "\n",
    "# Tối ưu hóa\n",
    "optimizer = torch.optim.SGD(model.parameters(), lr=0.01)\n",
    "\n",
    "# Huấn luyện mô hình\n",
    "num_epochs = 1000\n",
    "\n",
    "for epoch in range(num_epochs):\n",
    "    # Forward\n",
    "    y_pred = model(X_train)\n",
    "    \n",
    "    # Tính loss\n",
    "    loss = criterion(y_pred, y_train)\n",
    "    \n",
    "    # Backward\n",
    "    optimizer.zero_grad()\n",
    "    loss.backward()\n",
    "    optimizer.step()\n",
    "    \n",
    "    if (epoch+1) % 100 == 0:\n",
    "        print(f'Epoch: {epoch+1}, Loss: {loss.item()}')\n",
    "        \n"
   ]
  }
 ],
 "metadata": {
  "kernelspec": {
   "display_name": "Python 3",
   "language": "python",
   "name": "python3"
  },
  "language_info": {
   "codemirror_mode": {
    "name": "ipython",
    "version": 3
   },
   "file_extension": ".py",
   "mimetype": "text/x-python",
   "name": "python",
   "nbconvert_exporter": "python",
   "pygments_lexer": "ipython3",
   "version": "3.12.8"
  }
 },
 "nbformat": 4,
 "nbformat_minor": 2
}
